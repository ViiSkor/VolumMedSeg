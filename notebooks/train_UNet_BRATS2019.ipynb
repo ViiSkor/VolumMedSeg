{
  "nbformat": 4,
  "nbformat_minor": 0,
  "metadata": {
    "colab": {
      "name": "train_UNet_BRATS2019",
      "provenance": [],
      "collapsed_sections": [],
      "toc_visible": true,
      "machine_shape": "hm"
    },
    "kernelspec": {
      "name": "python3",
      "display_name": "Python 3"
    },
    "accelerator": "GPU"
  },
  "cells": [
    {
      "cell_type": "markdown",
      "metadata": {
        "id": "m-oHUemNtm59",
        "colab_type": "text"
      },
      "source": [
        "## Mount Drive"
      ]
    },
    {
      "cell_type": "code",
      "metadata": {
        "id": "GXQRLG_lWb6b",
        "colab_type": "code",
        "outputId": "ef3a9a75-8717-45fd-961b-92b7b92f7b83",
        "colab": {
          "base_uri": "https://localhost:8080/"
        }
      },
      "source": [
        "from google.colab import drive\n",
        "drive.mount('/content/drive')"
      ],
      "execution_count": 0,
      "outputs": [
        {
          "output_type": "stream",
          "text": [
            "Drive already mounted at /content/drive; to attempt to forcibly remount, call drive.mount(\"/content/drive\", force_remount=True).\n"
          ],
          "name": "stdout"
        }
      ]
    },
    {
      "cell_type": "markdown",
      "metadata": {
        "id": "rdDwTc1YvtJZ",
        "colab_type": "text"
      },
      "source": [
        "## Get required packages"
      ]
    },
    {
      "cell_type": "code",
      "metadata": {
        "id": "XcXgIn06c2_y",
        "colab_type": "code",
        "colab": {}
      },
      "source": [
        "!pip install setuptools --upgrade\n",
        "!pip install tb-nightly\n",
        "!git clone https://github.com/ViiSkor/keras-buoy"
      ],
      "execution_count": 0,
      "outputs": []
    },
    {
      "cell_type": "markdown",
      "metadata": {
        "id": "09ARH9U4D2Wy",
        "colab_type": "text"
      },
      "source": [
        "## Imports and helper functions"
      ]
    },
    {
      "cell_type": "code",
      "metadata": {
        "id": "Favb_S72QDVk",
        "colab_type": "code",
        "colab": {}
      },
      "source": [
        "import sys\n",
        "sys.path.extend(['/content/drive/My Drive/VolumMedSeg', '/content/drive/My Drive/VolumMedSeg/src', '/content/keras-buoy/src'])\n",
        "\n",
        "import os\n",
        "import random\n",
        "import pickle\n",
        "import numpy as np\n",
        "import nibabel as nib\n",
        "from keras_buoy.models import ResumableModel\n",
        "from tensorflow.keras import backend as K\n",
        "from tensorflow.keras.callbacks import ReduceLROnPlateau\n",
        "from tensorflow.keras.optimizers import Adam\n",
        "from matplotlib import animation, rc\n",
        "from matplotlib import pyplot as plt\n",
        "from keras_buoy.models import ResumableModel\n",
        "\n",
        "from src import utils\n",
        "from src.metrics import dice_coefficient, mean_iou\n",
        "from src.losses import soft_dice_loss\n",
        "from src.unet import Unet\n",
        "\n",
        "rc('animation', html='jshtml')"
      ],
      "execution_count": 0,
      "outputs": []
    },
    {
      "cell_type": "markdown",
      "metadata": {
        "id": "piRsc9rYYRzl",
        "colab_type": "text"
      },
      "source": [
        "## Loading Data\n"
      ]
    },
    {
      "cell_type": "markdown",
      "metadata": {
        "id": "wHqqrbnH0n2E",
        "colab_type": "text"
      },
      "source": [
        "### Load 3D data paths\n"
      ]
    },
    {
      "cell_type": "code",
      "metadata": {
        "id": "5sKqO_GODs-A",
        "colab_type": "code",
        "colab": {}
      },
      "source": [
        "data3D_dir = '/content/drive/My Drive/BTATS2019_preprocessed/3D'\n",
        "data3D_paths = utils.get_fpaths(data3D_dir)\n",
        "train_data3D_paths, test_data3D_paths, val_data3D_paths = utils.get_dataset_split(data3D_paths, seed=42)"
      ],
      "execution_count": 0,
      "outputs": []
    },
    {
      "cell_type": "code",
      "metadata": {
        "id": "aZrewpPwKv6g",
        "colab_type": "code",
        "outputId": "d5e35957-04f2-4d0e-d092-a72786c54a89",
        "colab": {
          "base_uri": "https://localhost:8080/"
        }
      },
      "source": [
        "print(f\"Train set has {len(train_data3D_paths)} samples\")\n",
        "print(f\"Test set has {len(test_data3D_paths)} samples\")\n",
        "print(f\"Validation set has {len(val_data3D_paths)} samples\")"
      ],
      "execution_count": 0,
      "outputs": [
        {
          "output_type": "stream",
          "text": [
            "Train set has 234 samples\n",
            "Test set has 50 samples\n",
            "Validation set has 51 samples\n"
          ],
          "name": "stdout"
        }
      ]
    },
    {
      "cell_type": "markdown",
      "metadata": {
        "id": "YaEvPyidxYTh",
        "colab_type": "text"
      },
      "source": [
        "### Load 2D data paths"
      ]
    },
    {
      "cell_type": "code",
      "metadata": {
        "id": "-i7N049TxiWL",
        "colab_type": "code",
        "colab": {}
      },
      "source": [
        "data2D_dir = '/content/drive/My Drive/BTATS2019_preprocessed/2D/'"
      ],
      "execution_count": 0,
      "outputs": []
    },
    {
      "cell_type": "code",
      "metadata": {
        "id": "AkSfKi8qhb8n",
        "colab_type": "code",
        "colab": {}
      },
      "source": [
        "train_data2D_paths = utils.get_data_paths4existing_slit(data2D_dir, train_data3D_paths, mode=\"2D\")\n",
        "test_data2D_paths = utils.get_data_paths4existing_slit(data2D_dir, test_data3D_paths, mode=\"2D\")\n",
        "val_data2D_paths = utils.get_data_paths4existing_slit(data2D_dir, val_data3D_paths, mode=\"2D\")"
      ],
      "execution_count": 0,
      "outputs": []
    },
    {
      "cell_type": "code",
      "metadata": {
        "id": "fjGY200SIQE7",
        "colab_type": "code",
        "colab": {}
      },
      "source": [
        "train_data2D_paths_unnpacked = utils.unpack_2D_fpaths(train_data2D_paths)\n",
        "test_data2D_paths_unnpacked = utils.unpack_2D_fpaths(test_data2D_paths)\n",
        "# val_data2D_paths_unnpacked = utils.unpack_2D_fpaths(val_data2D_paths)"
      ],
      "execution_count": 0,
      "outputs": []
    },
    {
      "cell_type": "code",
      "metadata": {
        "id": "RsCPLd7HzRB0",
        "colab_type": "code",
        "outputId": "63f16ccc-f54f-414a-b731-ea4dd042eee6",
        "colab": {
          "base_uri": "https://localhost:8080/",
          "height": 68
        }
      },
      "source": [
        "print(f\"Train set has {len(train_data2D_paths_unnpacked)} samples\")\n",
        "print(f\"Test set has {len(test_data2D_paths_unnpacked)} samples\")\n",
        "print(f\"Validation set has {len(val_data2D_paths_unnpacked)} samples\")"
      ],
      "execution_count": 0,
      "outputs": [
        {
          "output_type": "stream",
          "text": [
            "Train set has 15415 samples\n",
            "Test set has 3234 samples\n",
            "Validation set has 3381 samples\n"
          ],
          "name": "stdout"
        }
      ]
    },
    {
      "cell_type": "markdown",
      "metadata": {
        "id": "Ojc7YgwC305t",
        "colab_type": "text"
      },
      "source": [
        "# Train models"
      ]
    },
    {
      "cell_type": "markdown",
      "metadata": {
        "id": "qYLuu3wvzfjE",
        "colab_type": "text"
      },
      "source": [
        "### Create callbacks"
      ]
    },
    {
      "cell_type": "code",
      "metadata": {
        "id": "y7F6zAggOKlU",
        "colab_type": "code",
        "colab": {}
      },
      "source": [
        "reducer_lr = ReduceLROnPlateau(monitor='val_loss', factor=0.2, patience=4, min_lr=1e-6, verbose=1)"
      ],
      "execution_count": 0,
      "outputs": []
    },
    {
      "cell_type": "markdown",
      "metadata": {
        "id": "8_wmCs9o4Y9B",
        "colab_type": "text"
      },
      "source": [
        "### Init train variables"
      ]
    },
    {
      "cell_type": "code",
      "metadata": {
        "colab_type": "code",
        "id": "f_1TXUtd0QJm",
        "colab": {}
      },
      "source": [
        "history_path_3DUnet = '/content/drive/My Drive/VolumMedSeg/models/BraTS/UNet3D/Unet3D.h5'\n",
        "history_path_Dilated3DUnet = '/content/drive/My Drive/VolumMedSeg/models/BraTS/UNet3DDilated/Unet3DDilated.h5'\n",
        "history_path_2DUnet = '/content/drive/My Drive/VolumMedSeg/models/BraTS/UNet2D/Unet2D.h5'\n",
        "history_path_Dilated2DUnet = '/content/drive/My Drive/VolumMedSeg/models/BraTS/UNet2DDilated/Unet2DDilated.h5'"
      ],
      "execution_count": 0,
      "outputs": []
    },
    {
      "cell_type": "code",
      "metadata": {
        "id": "SE4es_IE4VZY",
        "colab_type": "code",
        "colab": {}
      },
      "source": [
        "BATCH_SIZE = 1\n",
        "MERGE_CLASSES = True\n",
        "SHUFFLE = True\n",
        "AUGMENTATION = {'flip': False, 'rand_rot': True, 'hist_dist': False}\n",
        "OUTPUT_CLASSES = ['ncr', 'et', 'ed']\n",
        "SCAN_TYPES = ['t1', 't1ce', 't2', 'flair']\n",
        "DIM3D = (144, 192, 160)\n",
        "DIM2D = (192, 160)\n",
        "EPOCHS = 50\n",
        "\n",
        "n_classes = len(OUTPUT_CLASSES) if not MERGE_CLASSES else 1\n",
        "n_channels = len(SCAN_TYPES)\n",
        "input3D_shape = (*DIM3D, n_channels)\n",
        "input2D_shape = (*DIM2D, n_channels)\n",
        "\n",
        "custom_objects = {'soft_dice_loss': soft_dice_loss, 'mean_iou': mean_iou}"
      ],
      "execution_count": 0,
      "outputs": []
    },
    {
      "cell_type": "markdown",
      "metadata": {
        "id": "YpoK_-9-5NKh",
        "colab_type": "text"
      },
      "source": [
        "### Train 3D U-Nets"
      ]
    },
    {
      "cell_type": "markdown",
      "metadata": {
        "id": "51iZRsfG1qwd",
        "colab_type": "text"
      },
      "source": [
        "#### Create 3D data generators"
      ]
    },
    {
      "cell_type": "code",
      "metadata": {
        "id": "rUyPYjm4yvyW",
        "colab_type": "code",
        "colab": {}
      },
      "source": [
        "train3D_params = {\n",
        "          'dim': DIM3D,\n",
        "          'batch_size': BATCH_SIZE,\n",
        "          'merge_classes': MERGE_CLASSES,\n",
        "          'shuffle': SHUFFLE,\n",
        "          'flip': AUGMENTATION['flip'],\n",
        "          'rand_rot': AUGMENTATION['rand_rot'],\n",
        "          'hist_dist': AUGMENTATION['hist_dist'],\n",
        "          'scan_types': SCAN_TYPES,\n",
        "          'output_classes': OUTPUT_CLASSES,\n",
        "          }\n",
        "\n",
        "test3D_params = {\n",
        "          'dim': DIM3D,\n",
        "          'batch_size': BATCH_SIZE,\n",
        "          'merge_classes': MERGE_CLASSES,\n",
        "          'scan_types': SCAN_TYPES,\n",
        "          'output_classes': OUTPUT_CLASSES,\n",
        "          }\n",
        "\n",
        "\n",
        "training3D_generator = Med3DDataGenerator(train_data3D_paths, **train3D_params)\n",
        "testing3D_generator = Med3DDataGenerator(test_data3D_paths, **test3D_params)"
      ],
      "execution_count": 0,
      "outputs": []
    },
    {
      "cell_type": "markdown",
      "metadata": {
        "id": "36qWFuuy7FIX",
        "colab_type": "text"
      },
      "source": [
        "#### Train 3D U-Net model"
      ]
    },
    {
      "cell_type": "code",
      "metadata": {
        "id": "UQwmuRIm59sB",
        "colab_type": "code",
        "colab": {}
      },
      "source": [
        "unet3d = Unet(n_classes=n_classes,\n",
        "              input_shape=input3D_shape,\n",
        "              n_base_filters=16,\n",
        "              activation=\"elu\",\n",
        "              dropout_type=\"spatial\",\n",
        "              bottleneck_depth=2,\n",
        "              mode=\"3D\",\n",
        "              )\n",
        "\n",
        "model = unet3d.build_model()\n",
        "model.compile(Adam(lr=1e-4), loss=soft_dice_loss)"
      ],
      "execution_count": 0,
      "outputs": []
    },
    {
      "cell_type": "code",
      "metadata": {
        "id": "SaU5CsXKPFK2",
        "colab_type": "code",
        "colab": {}
      },
      "source": [
        "resumable_model = ResumableModel(model, save_every_epochs=3, custom_objects=custom_objects, to_path=history_path_3DUnet)\n",
        "history = resumable_model.fit(training3D_generator, validation_data=testing3D_generator, verbose=1, epochs=EPOCHS, callbacks=[reducer_lr])"
      ],
      "execution_count": 0,
      "outputs": []
    },
    {
      "cell_type": "markdown",
      "metadata": {
        "id": "iWht5xmMocN-",
        "colab_type": "text"
      },
      "source": [
        "#### Train Dilated 3D U-Net model"
      ]
    },
    {
      "cell_type": "code",
      "metadata": {
        "id": "sUeG3h6tnEq8",
        "colab_type": "code",
        "colab": {}
      },
      "source": [
        "unet3d_dil = Unet(n_classes=n_classes,\n",
        "              input_shape=input3D_shape,\n",
        "              n_base_filters=16,\n",
        "              activation=\"elu\",\n",
        "              dropout_type=\"spatial\",\n",
        "              dilate=True,\n",
        "              mode=\"3D\",\n",
        "              )\n",
        "model = unet3d_dil.build_model()\n",
        "\n",
        "model.compile(Adam(lr=1e-4), loss=soft_dice_loss)"
      ],
      "execution_count": 0,
      "outputs": []
    },
    {
      "cell_type": "code",
      "metadata": {
        "id": "0OnzpXGm1bq1",
        "colab_type": "code",
        "colab": {}
      },
      "source": [
        "resumable_model = ResumableModel(model, save_every_epochs=3, custom_objects=custom_objects, to_path=history_path_Dilated3DUnet)\n",
        "history = resumable_model.fit(training3D_generator, validation_data=testing3D_generator, verbose=1, epochs=EPOCHS, callbacks=[reducer_lr])"
      ],
      "execution_count": 0,
      "outputs": []
    },
    {
      "cell_type": "markdown",
      "metadata": {
        "id": "lWzysOzF68ov",
        "colab_type": "text"
      },
      "source": [
        "### Train 2D U-Nets"
      ]
    },
    {
      "cell_type": "markdown",
      "metadata": {
        "id": "K5ntiQAD13lV",
        "colab_type": "text"
      },
      "source": [
        "#### Create 2D data generators"
      ]
    },
    {
      "cell_type": "code",
      "metadata": {
        "id": "HnUC6ti54mhA",
        "colab_type": "code",
        "colab": {}
      },
      "source": [
        "train2D_params = {\n",
        "          'dim': DIM2D,\n",
        "          'batch_size': BATCH_SIZE,\n",
        "          'merge_classes': MERGE_CLASSES,\n",
        "          'shuffle': SHUFFLE,\n",
        "          #'flip': AUGMENTATION['flip'],\n",
        "          'rand_rot': AUGMENTATION['rand_rot'],\n",
        "          'hist_dist': AUGMENTATION['hist_dist'],\n",
        "          'scan_types': SCAN_TYPES,\n",
        "          'output_classes': OUTPUT_CLASSES,\n",
        "          }\n",
        "\n",
        "test2D_params = {\n",
        "          'dim': DIM2D,\n",
        "          'batch_size': BATCH_SIZE,\n",
        "          'merge_classes': MERGE_CLASSES,\n",
        "          'scan_types': SCAN_TYPES,\n",
        "          'output_classes': OUTPUT_CLASSES,\n",
        "          }\n",
        "\n",
        "training2D_generator = Med2DDataGenerator(train_data2D_paths_unnpacked, **train2D_params)\n",
        "testing2D_generator = Med2DDataGenerator(test_data2D_paths_unnpacked, **test2D_params)"
      ],
      "execution_count": 0,
      "outputs": []
    },
    {
      "cell_type": "markdown",
      "metadata": {
        "id": "x3E-5KMT7P1s",
        "colab_type": "text"
      },
      "source": [
        "#### Train 2D U-Net model"
      ]
    },
    {
      "cell_type": "code",
      "metadata": {
        "id": "C_4192oa7TPd",
        "colab_type": "code",
        "colab": {}
      },
      "source": [
        "unet2d = Unet(n_classes=n_classes,\n",
        "              input_shape=input2D_shape,\n",
        "              n_base_filters=16,\n",
        "              activation=\"elu\",\n",
        "              dropout_type=\"spatial\",\n",
        "              bottleneck_depth=2,\n",
        "              mode=\"2D\"\n",
        "              )\n",
        "model = unet2d.build_model()\n",
        "\n",
        "model.compile(Adam(lr=1e-4), loss=soft_dice_loss)"
      ],
      "execution_count": 0,
      "outputs": []
    },
    {
      "cell_type": "code",
      "metadata": {
        "id": "1F4wffsPkMgd",
        "colab_type": "code",
        "colab": {}
      },
      "source": [
        "resumable_model = ResumableModel(model, save_every_epochs=3, custom_objects=custom_objects, to_path=history_path_2DUnet)\n",
        "history = resumable_model.fit(training2D_generator, validation_data=testing2D_generator, verbose=1, epochs=EPOCHS, callbacks=[reducer_lr])"
      ],
      "execution_count": 0,
      "outputs": []
    },
    {
      "cell_type": "markdown",
      "metadata": {
        "id": "8a0JjRG9MeNm",
        "colab_type": "text"
      },
      "source": [
        "#### Train Dilated 2D U-Net model"
      ]
    },
    {
      "cell_type": "code",
      "metadata": {
        "id": "nnie7ea9lO0q",
        "colab_type": "code",
        "colab": {}
      },
      "source": [
        "unet2d_dil = Unet(n_classes=n_classes,\n",
        "              input_shape=input2D_shape,\n",
        "              n_base_filters=16,\n",
        "              activation=\"elu\",\n",
        "              dropout_type=\"spatial\",\n",
        "              dilate=True,\n",
        "              mode=\"2D\",\n",
        "              )\n",
        "model = unet2d_dil.build_model()\n",
        "\n",
        "model.compile(Adam(lr=1e-4), loss=soft_dice_loss)"
      ],
      "execution_count": 0,
      "outputs": []
    },
    {
      "cell_type": "code",
      "metadata": {
        "id": "FMxYaAEBlgzy",
        "colab_type": "code",
        "colab": {}
      },
      "source": [
        "resumable_model = ResumableModel(model, save_every_epochs=3, custom_objects=custom_objects, to_path=history_path_Dilated2DUnet)\n",
        "history = resumable_model.fit(training2D_generator, validation_data=testing2D_generator, verbose=1, epochs=EPOCHS, callbacks=[reducer_lr])"
      ],
      "execution_count": 0,
      "outputs": []
    }
  ]
}